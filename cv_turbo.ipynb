{
  "nbformat": 4,
  "nbformat_minor": 0,
  "metadata": {
    "colab": {
      "provenance": [],
      "authorship_tag": "ABX9TyPtiG1Ng2OhbSyRaAjRhKEb",
      "include_colab_link": true
    },
    "kernelspec": {
      "name": "python3",
      "display_name": "Python 3"
    },
    "language_info": {
      "name": "python"
    }
  },
  "cells": [
    {
      "cell_type": "markdown",
      "metadata": {
        "id": "view-in-github",
        "colab_type": "text"
      },
      "source": [
        "<a href=\"https://colab.research.google.com/github/mauricioimai/cv-turbo/blob/main/cv_turbo.ipynb\" target=\"_parent\"><img src=\"https://colab.research.google.com/assets/colab-badge.svg\" alt=\"Open In Colab\"/></a>"
      ]
    },
    {
      "cell_type": "markdown",
      "source": [
        "# **Descrição:**\n",
        "Para este projeto eu desenvolvi uma automação para analisar o currículo e adequar o curriculo para uma determinada vaga, aumentando as chances de ser chamado para uma entrevista.\n",
        "\n",
        "# **Entrada:**\n",
        "O usuário entra com o texto do currículo e com a descrição da vaga.\n",
        "\n",
        "# **Resultado:**\n",
        "O resultado está dividido em sessões conforme abaixo:\n",
        "* **Análise:** mostra a análise do currículo fornecido.\n",
        "* **Habilidades requeridas:** relaciona as habilidades requeridas pela vaga.\n",
        "* **Habilidades que não tenho:** lista as habilidades que não foram relacionadas no currículo.\n",
        "* **Recomendações:** sugere formas de adquirir as habilidades que não tenho.\n",
        "* **Novo CV:** modifica o currículo de forma a destacar as habilidades que são requisitos da vaga e otimiza para processos que utilizam robôs.\n",
        "* **CV em inglês:** versão traduzada do currículo gerado para o inglês.\n",
        "\n",
        "# **IMPORTANTE**\n",
        "Quando você for utilizar esta automação, ***não forneça os seu dados pessoais, como telefone, endereço ou email***.\n",
        "Os resultados são ***apenas*** sugestões e não devem ser usados sem ser revisados."
      ],
      "metadata": {
        "id": "WD0HuBomkhsd"
      }
    },
    {
      "cell_type": "code",
      "source": [
        "!pip install -q -U google-generativeai\n",
        "\n",
        "import google.generativeai as genai\n",
        "from google.colab import userdata\n",
        "from IPython.display import display, Markdown\n",
        "\n",
        "separador = \"---------------\"\n",
        "\n",
        "GOOGLE_API_KEY = userdata.get(\"SECRET_KEY\")\n",
        "genai.configure(api_key=GOOGLE_API_KEY)\n",
        "generation_config = {\n",
        "    \"candidate_count\": 1,\n",
        "    \"temperature\": 0.5,\n",
        "}\n",
        "safety_settings = {\n",
        "    \"HARASSMENT\": \"BLOCK_NONE\",\n",
        "    \"HATE\": \"BLOCK_NONE\",\n",
        "    \"SEXUAL\": \"BLOCK_NONE\",\n",
        "    \"DANGEROUS\": \"BLOCK_NONE\",\n",
        "}\n",
        "model = genai.GenerativeModel(model_name=\"gemini-1.0-pro\",\n",
        "                              generation_config=generation_config,\n",
        "                              safety_settings=safety_settings)\n",
        "chat = model.start_chat(history=[])\n",
        "\n",
        "cv = input(\"CV: \")\n",
        "jobDescription = input(\"descriçao da vaga: \")\n",
        "\n",
        "dados = [\n",
        "    {\n",
        "        \"prompt\": f\"Você é um recrutador experiente e aqui está o meu cv: \\n{cv}\\n\\n Estou me candidatando à vaga abaixo. \\n{jobDescription}\\n\" ,\n",
        "        \"title\": \"Análise\"\n",
        "    },\n",
        "    {\n",
        "        \"prompt\": \"Quais são as habilidades requeridas para esta vaga?\",\n",
        "        \"title\": \"Habilidades requeridas\"\n",
        "    },\n",
        "    {\n",
        "        \"prompt\": \"Quais são as habilidades que eu não tenho?\",\n",
        "        \"title\": \"Habilidades que não tenho\"\n",
        "    },\n",
        "    {\n",
        "        \"prompt\": \"Como posso adquirir as habilidades que eu não tenho?\",\n",
        "        \"title\": \"Recomendações\"\n",
        "    },\n",
        "    {\n",
        "        \"prompt\": \"Modifique o meu cv de forma a destacar as minhas habilidades que são requisitos da vaga. Este novo cv deve facilitar robos a encontrarem as minhas habilidades.\",\n",
        "        \"title\": \"Novo CV\"\n",
        "    },\n",
        "    {\n",
        "        \"prompt\": \"Traduza este cv para o inglês.\",\n",
        "        \"title\": \"CV em inglês\"\n",
        "    },\n",
        "]\n",
        "\n",
        "mensagem = f\"\"\"\n",
        "{separador}\n",
        "# Resultados\n",
        "\"\"\"\n",
        "display(Markdown(mensagem))\n",
        "for i, item in enumerate(dados, 1):\n",
        "  prompt = item[\"prompt\"]\n",
        "  titulo = item[\"title\"]\n",
        "  resposta = chat.send_message(prompt)\n",
        "  mensagem = f\"\"\"\n",
        "{separador}\n",
        "# {titulo}\n",
        "{resposta.text}\n",
        "\"\"\"\n",
        "  display(Markdown(mensagem))"
      ],
      "metadata": {
        "id": "IUw7Z_SRhmz7"
      },
      "execution_count": null,
      "outputs": []
    }
  ]
}